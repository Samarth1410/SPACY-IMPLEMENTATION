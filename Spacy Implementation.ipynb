{
 "cells": [
  {
   "cell_type": "markdown",
   "id": "fad95c5b",
   "metadata": {},
   "source": [
    "We are provided the train/test data in IOB format contained in a TSV file.\n",
    "\n",
    "The train/test data in tsv format is passed into an annotation tool UBIAI which provides the output in same tsv format.\n",
    "\n",
    "This tsv file then is then convertd to spaCy JSON format, which will be then converted to a .spacy binary file.\n",
    "\n",
    "Note: Spacy takes input in .spacy format only"
   ]
  },
  {
   "cell_type": "code",
   "execution_count": 5,
   "id": "da90c77b",
   "metadata": {},
   "outputs": [],
   "source": [
    "import spacy\n",
    "import tensorflow"
   ]
  },
  {
   "cell_type": "code",
   "execution_count": 4,
   "id": "745b480b",
   "metadata": {},
   "outputs": [
    {
     "name": "stderr",
     "output_type": "stream",
     "text": [
      "'wget' is not recognized as an internal or external command,\n",
      "operable program or batch file.\n",
      "'dpkg' is not recognized as an internal or external command,\n",
      "operable program or batch file.\n",
      "'apt-key' is not recognized as an internal or external command,\n",
      "operable program or batch file.\n",
      "'apt-get' is not recognized as an internal or external command,\n",
      "operable program or batch file.\n",
      "'apt-get' is not recognized as an internal or external command,\n",
      "operable program or batch file.\n"
     ]
    }
   ],
   "source": [
    "!wget https://developer.nvidia.com/compute/cuda/9.2/Prod/local_installers/cuda-repo-ubuntu1604-9-2-local_9.2.88-1_amd64 -O cuda-repo-ubuntu1604-9-2-local_9.2.88-1_amd64.deb\n",
    "!dpkg -i cuda-repo-ubuntu1604-9-2-local_9.2.88-1_amd64.deb\n",
    "!apt-key add /var/cuda-repo-9-2-local/7fa2af80.pub\n",
    "!apt-get update\n",
    "!apt-get install cuda-9.2"
   ]
  },
  {
   "cell_type": "markdown",
   "id": "1de98f19",
   "metadata": {},
   "source": [
    "Download the files from Github"
   ]
  },
  {
   "cell_type": "code",
   "execution_count": 2,
   "id": "9102b5b5",
   "metadata": {},
   "outputs": [
    {
     "name": "stderr",
     "output_type": "stream",
     "text": [
      "fatal: destination path 'Fine_tune_BERT_with_spacy3' already exists and is not an empty directory.\n"
     ]
    }
   ],
   "source": [
    "!git clone https://github.com/UBIAI/Fine_tune_BERT_with_spacy3.git"
   ]
  },
  {
   "cell_type": "markdown",
   "id": "c30a90c0",
   "metadata": {},
   "source": [
    "Test/Train files are in tsv(IOB)... therefore we need convert them to Json file and then to .spacy binary file"
   ]
  },
  {
   "cell_type": "code",
   "execution_count": 3,
   "id": "6a715fe9",
   "metadata": {},
   "outputs": [
    {
     "name": "stdout",
     "output_type": "stream",
     "text": [
      "[i] Auto-detected token-per-line NER format\n",
      "[!] Document delimiters found, automatic document segmentation with `-n`\n",
      "disabled.\n",
      "[+] Generated output file (1 documents): test.json\n"
     ]
    },
    {
     "name": "stderr",
     "output_type": "stream",
     "text": [
      "2022-09-27 19:52:38.003406: W tensorflow/stream_executor/platform/default/dso_loader.cc:64] Could not load dynamic library 'cudart64_110.dll'; dlerror: cudart64_110.dll not found\n",
      "2022-09-27 19:52:38.003445: I tensorflow/stream_executor/cuda/cudart_stub.cc:29] Ignore above cudart dlerror if you do not have a GPU set up on your machine.\n"
     ]
    },
    {
     "name": "stdout",
     "output_type": "stream",
     "text": [
      "[i] Auto-detected token-per-line NER format\n",
      "[!] Document delimiters found, automatic document segmentation with `-n`\n",
      "disabled.\n",
      "[+] Generated output file (1 documents): train.json\n"
     ]
    },
    {
     "name": "stderr",
     "output_type": "stream",
     "text": [
      "2022-09-27 19:52:46.048170: W tensorflow/stream_executor/platform/default/dso_loader.cc:64] Could not load dynamic library 'cudart64_110.dll'; dlerror: cudart64_110.dll not found\n",
      "2022-09-27 19:52:46.048222: I tensorflow/stream_executor/cuda/cudart_stub.cc:29] Ignore above cudart dlerror if you do not have a GPU set up on your machine.\n"
     ]
    }
   ],
   "source": [
    "!python -m spacy convert \"C:\\Users\\samar\\Downloads\\Fine_tune_BERT_with_spacy3\\test.tsv\" ./ -t json -n 1 -c iob\n",
    "!python -m spacy convert \"C:\\Users\\samar\\Downloads\\Fine_tune_BERT_with_spacy3\\train.tsv\" ./ -t json -n 1 -c iob"
   ]
  },
  {
   "cell_type": "markdown",
   "id": "07fd92cc",
   "metadata": {},
   "source": [
    "Now we need to convert Json files to .spacy binary file"
   ]
  },
  {
   "cell_type": "code",
   "execution_count": 4,
   "id": "f5b7ec7c",
   "metadata": {},
   "outputs": [
    {
     "name": "stdout",
     "output_type": "stream",
     "text": [
      "[+] Generated output file (11 documents): test.spacy\n"
     ]
    },
    {
     "name": "stderr",
     "output_type": "stream",
     "text": [
      "2022-09-27 19:52:52.215248: W tensorflow/stream_executor/platform/default/dso_loader.cc:64] Could not load dynamic library 'cudart64_110.dll'; dlerror: cudart64_110.dll not found\n",
      "2022-09-27 19:52:52.215292: I tensorflow/stream_executor/cuda/cudart_stub.cc:29] Ignore above cudart dlerror if you do not have a GPU set up on your machine.\n"
     ]
    },
    {
     "name": "stdout",
     "output_type": "stream",
     "text": [
      "[+] Generated output file (77 documents): train.spacy\n"
     ]
    },
    {
     "name": "stderr",
     "output_type": "stream",
     "text": [
      "2022-09-27 19:52:57.741651: W tensorflow/stream_executor/platform/default/dso_loader.cc:64] Could not load dynamic library 'cudart64_110.dll'; dlerror: cudart64_110.dll not found\n",
      "2022-09-27 19:52:57.741710: I tensorflow/stream_executor/cuda/cudart_stub.cc:29] Ignore above cudart dlerror if you do not have a GPU set up on your machine.\n"
     ]
    }
   ],
   "source": [
    "!python -m spacy convert \"C:\\Users\\samar\\Downloads\\test.json\" ./ -t spacy\n",
    "!python -m spacy convert \"C:\\Users\\samar\\Downloads\\train.json\" ./ -t spacy"
   ]
  },
  {
   "cell_type": "markdown",
   "id": "319a9421",
   "metadata": {},
   "source": [
    "# Model Training:"
   ]
  },
  {
   "cell_type": "markdown",
   "id": "54b8eaa3",
   "metadata": {},
   "source": [
    "After updating the spacy config.cfg file with the training and test paths, we auto-fill the config file with the rest of the parameters that the BERT model will need"
   ]
  },
  {
   "cell_type": "code",
   "execution_count": 5,
   "id": "6afd6ef9",
   "metadata": {},
   "outputs": [
    {
     "name": "stderr",
     "output_type": "stream",
     "text": [
      "2022-09-27 19:53:03.954683: W tensorflow/stream_executor/platform/default/dso_loader.cc:64] Could not load dynamic library 'cudart64_110.dll'; dlerror: cudart64_110.dll not found\n",
      "2022-09-27 19:53:03.954722: I tensorflow/stream_executor/cuda/cudart_stub.cc:29] Ignore above cudart dlerror if you do not have a GPU set up on your machine.\n",
      "Traceback (most recent call last):\n",
      "  File \"D:\\Anaconda\\lib\\runpy.py\", line 197, in _run_module_as_main\n",
      "    return _run_code(code, main_globals, None,\n",
      "  File \"D:\\Anaconda\\lib\\runpy.py\", line 87, in _run_code\n",
      "    exec(code, run_globals)\n",
      "  File \"D:\\Anaconda\\lib\\site-packages\\spacy\\__main__.py\", line 4, in <module>\n",
      "    setup_cli()\n",
      "  File \"D:\\Anaconda\\lib\\site-packages\\spacy\\cli\\_util.py\", line 69, in setup_cli\n",
      "    command(prog_name=COMMAND)\n",
      "  File \"D:\\Anaconda\\lib\\site-packages\\click\\core.py\", line 829, in __call__\n",
      "    return self.main(*args, **kwargs)\n",
      "  File \"D:\\Anaconda\\lib\\site-packages\\click\\core.py\", line 782, in main\n",
      "    rv = self.invoke(ctx)\n",
      "  File \"D:\\Anaconda\\lib\\site-packages\\click\\core.py\", line 1259, in invoke\n",
      "    return _process_result(sub_ctx.command.invoke(sub_ctx))\n",
      "  File \"D:\\Anaconda\\lib\\site-packages\\click\\core.py\", line 1259, in invoke\n",
      "    return _process_result(sub_ctx.command.invoke(sub_ctx))\n",
      "  File \"D:\\Anaconda\\lib\\site-packages\\click\\core.py\", line 1066, in invoke\n",
      "    return ctx.invoke(self.callback, **ctx.params)\n",
      "  File \"D:\\Anaconda\\lib\\site-packages\\click\\core.py\", line 610, in invoke\n",
      "    return callback(*args, **kwargs)\n",
      "  File \"D:\\Anaconda\\lib\\site-packages\\typer\\main.py\", line 497, in wrapper\n",
      "    return callback(**use_params)  # type: ignore\n",
      "  File \"D:\\Anaconda\\lib\\site-packages\\spacy\\cli\\init_config.py\", line 88, in init_fill_config_cli\n",
      "    fill_config(output_file, base_path, pretraining=pretraining, diff=diff)\n",
      "  File \"D:\\Anaconda\\lib\\site-packages\\spacy\\cli\\init_config.py\", line 104, in fill_config\n",
      "    nlp = util.load_model_from_config(config, auto_fill=True, validate=False)\n",
      "  File \"D:\\Anaconda\\lib\\site-packages\\spacy\\util.py\", line 429, in load_model_from_config\n",
      "    nlp = lang_cls.from_config(\n",
      "  File \"D:\\Anaconda\\lib\\site-packages\\spacy\\language.py\", line 1716, in from_config\n",
      "    nlp.add_pipe(\n",
      "  File \"D:\\Anaconda\\lib\\site-packages\\spacy\\language.py\", line 777, in add_pipe\n",
      "    pipe_component = self.create_pipe(\n",
      "  File \"D:\\Anaconda\\lib\\site-packages\\spacy\\language.py\", line 641, in create_pipe\n",
      "    raise ValueError(err)\n",
      "ValueError: [E002] Can't find factory for 'transformer' for language English (en). This usually happens when spaCy calls `nlp.create_pipe` with a custom component name that's not registered on the current language class. If you're using a Transformer, make sure to install 'spacy-transformers'. If you're using a custom component, make sure you've added the decorator `@Language.component` (for function components) or `@Language.factory` (for class components).\n",
      "\n",
      "Available factories: attribute_ruler, tok2vec, merge_noun_chunks, merge_entities, merge_subtokens, token_splitter, parser, beam_parser, entity_linker, ner, beam_ner, entity_ruler, lemmatizer, tagger, morphologizer, senter, sentencizer, textcat, spancat, textcat_multilabel, en.lemmatizer\n"
     ]
    }
   ],
   "source": [
    "!python -m spacy init fill-config \"C:\\Users\\samar\\Downloads\\Fine_tune_BERT_with_spacy3\\base_config.cfg\" \"C:\\Users\\samar\\Downloads\\Fine_tune_BERT_with_spacy3\\base_config.cfg\""
   ]
  },
  {
   "cell_type": "markdown",
   "id": "742e4db8",
   "metadata": {},
   "source": [
    "Finally, we are ready to start the training:"
   ]
  },
  {
   "cell_type": "code",
   "execution_count": 7,
   "id": "ea01f507",
   "metadata": {},
   "outputs": [
    {
     "name": "stderr",
     "output_type": "stream",
     "text": [
      "2022-09-27 20:30:19.705273: W tensorflow/stream_executor/platform/default/dso_loader.cc:64] Could not load dynamic library 'cudart64_110.dll'; dlerror: cudart64_110.dll not found\n",
      "2022-09-27 20:30:19.705313: I tensorflow/stream_executor/cuda/cudart_stub.cc:29] Ignore above cudart dlerror if you do not have a GPU set up on your machine.\n",
      "2022-09-27 20:30:23.022122: W tensorflow/stream_executor/platform/default/dso_loader.cc:64] Could not load dynamic library 'nvcuda.dll'; dlerror: nvcuda.dll not found\n",
      "2022-09-27 20:30:23.022146: W tensorflow/stream_executor/cuda/cuda_driver.cc:263] failed call to cuInit: UNKNOWN ERROR (303)\n",
      "2022-09-27 20:30:23.027423: I tensorflow/stream_executor/cuda/cuda_diagnostics.cc:169] retrieving CUDA diagnostic information for host: DESKTOP-G1JQ893\n",
      "2022-09-27 20:30:23.027632: I tensorflow/stream_executor/cuda/cuda_diagnostics.cc:176] hostname: DESKTOP-G1JQ893\n",
      "Traceback (most recent call last):\n",
      "  File \"D:\\Anaconda\\lib\\runpy.py\", line 197, in _run_module_as_main\n",
      "    return _run_code(code, main_globals, None,\n",
      "  File \"D:\\Anaconda\\lib\\runpy.py\", line 87, in _run_code\n",
      "    exec(code, run_globals)\n",
      "  File \"D:\\Anaconda\\lib\\site-packages\\spacy\\__main__.py\", line 4, in <module>\n",
      "    setup_cli()\n",
      "  File \"D:\\Anaconda\\lib\\site-packages\\spacy\\cli\\_util.py\", line 71, in setup_cli\n",
      "    command(prog_name=COMMAND)\n",
      "  File \"D:\\Anaconda\\lib\\site-packages\\click\\core.py\", line 829, in __call__\n",
      "    return self.main(*args, **kwargs)\n",
      "  File \"D:\\Anaconda\\lib\\site-packages\\click\\core.py\", line 782, in main\n",
      "    rv = self.invoke(ctx)\n",
      "  File \"D:\\Anaconda\\lib\\site-packages\\click\\core.py\", line 1259, in invoke\n",
      "    return _process_result(sub_ctx.command.invoke(sub_ctx))\n",
      "  File \"D:\\Anaconda\\lib\\site-packages\\click\\core.py\", line 1066, in invoke\n",
      "    return ctx.invoke(self.callback, **ctx.params)\n",
      "  File \"D:\\Anaconda\\lib\\site-packages\\click\\core.py\", line 610, in invoke\n",
      "    return callback(*args, **kwargs)\n",
      "  File \"D:\\Anaconda\\lib\\site-packages\\typer\\main.py\", line 497, in wrapper\n",
      "    return callback(**use_params)  # type: ignore\n",
      "  File \"D:\\Anaconda\\lib\\site-packages\\spacy\\cli\\train.py\", line 43, in train_cli\n",
      "    overrides = parse_config_overrides(ctx.args)\n",
      "  File \"D:\\Anaconda\\lib\\site-packages\\spacy\\cli\\_util.py\", line 87, in parse_config_overrides\n",
      "    cli_overrides = _parse_overrides(args, is_cli=True)\n",
      "  File \"D:\\Anaconda\\lib\\site-packages\\spacy\\cli\\_util.py\", line 119, in _parse_overrides\n",
      "    msg.fail(f\"{err}: name should start with --\", exits=1)\n",
      "  File \"D:\\Anaconda\\lib\\site-packages\\wasabi\\printer.py\", line 84, in fail\n",
      "    return self._get_msg(\n",
      "  File \"D:\\Anaconda\\lib\\site-packages\\wasabi\\printer.py\", line 248, in _get_msg\n",
      "    return self.text(\n",
      "  File \"D:\\Anaconda\\lib\\site-packages\\wasabi\\printer.py\", line 132, in text\n",
      "    title = locale_escape(\"{} {}\".format(icon, title)).strip()\n",
      "  File \"D:\\Anaconda\\lib\\site-packages\\wasabi\\util.py\", line 186, in locale_escape\n",
      "    string = string.encode(ENCODING, errors).decode(\"utf8\")\n",
      "UnicodeDecodeError: 'utf-8' codec can't decode byte 0x97 in position 29: invalid start byte\n"
     ]
    }
   ],
   "source": [
    "!python -m spacy train --gpu-id -1 \"C:\\Users\\samar\\Downloads\\Fine_tune_BERT_with_spacy3\\base_config.cfg\" — output ./"
   ]
  },
  {
   "cell_type": "raw",
   "id": "31e26617",
   "metadata": {},
   "source": [
    "ERROR : Could not load dynamic library 'cudart64_110.dll'; dlerror: cudart64_110.dll not found"
   ]
  },
  {
   "cell_type": "code",
   "execution_count": 11,
   "id": "0cbdc9f9",
   "metadata": {},
   "outputs": [
    {
     "name": "stderr",
     "output_type": "stream",
     "text": [
      "2022-09-27 20:03:01.884380: W tensorflow/stream_executor/platform/default/dso_loader.cc:64] Could not load dynamic library 'cudart64_110.dll'; dlerror: cudart64_110.dll not found\n",
      "2022-09-27 20:03:01.884428: I tensorflow/stream_executor/cuda/cudart_stub.cc:29] Ignore above cudart dlerror if you do not have a GPU set up on your machine.\n"
     ]
    },
    {
     "name": "stdout",
     "output_type": "stream",
     "text": [
      "Usage: python -m spacy train [OPTIONS] CONFIG_PATH\n",
      "\n",
      "  Train or update a spaCy pipeline. Requires data in spaCy's binary format.\n",
      "  To convert data from other formats, use the `spacy convert` command. The\n",
      "  config file includes all settings and hyperparameters used during\n",
      "  training. To override settings in the config, e.g. settings that point to\n",
      "  local paths or that you want to experiment with, you can override them as\n",
      "  command line options. For instance, --training.batch_size 128 overrides\n",
      "  the value of \"batch_size\" in the block \"[training]\". The --code argument\n",
      "  lets you pass in a Python file that's imported before training. It can be\n",
      "  used to register custom functions and architectures that can then be\n",
      "  referenced in the config.\n",
      "\n",
      "  DOCS: https://spacy.io/api/cli#train\n",
      "\n",
      "Arguments:\n",
      "  CONFIG_PATH  Path to config file  [required]\n",
      "\n",
      "Options:\n",
      "  -o, --output, --output-path PATH\n",
      "                                  Output directory to store trained pipeline\n",
      "                                  in\n",
      "\n",
      "  -c, --code PATH                 Path to Python file with additional code\n",
      "                                  (registered functions) to be imported\n",
      "\n",
      "  -V, -VV, --verbose              Display more information for debugging\n",
      "                                  purposes  [default: False]\n",
      "\n",
      "  -g, --gpu-id INTEGER            GPU ID or -1 for CPU  [default: -1]\n",
      "  --help                          Show this message and exit.\n"
     ]
    }
   ],
   "source": [
    "!python -m spacy train --help"
   ]
  },
  {
   "cell_type": "code",
   "execution_count": 8,
   "id": "67b1d777",
   "metadata": {},
   "outputs": [
    {
     "data": {
      "text/plain": [
       "'3.4.1'"
      ]
     },
     "execution_count": 8,
     "metadata": {},
     "output_type": "execute_result"
    }
   ],
   "source": [
    "spacy.__version__"
   ]
  },
  {
   "cell_type": "code",
   "execution_count": null,
   "id": "e18e0e8f",
   "metadata": {},
   "outputs": [],
   "source": []
  },
  {
   "cell_type": "code",
   "execution_count": null,
   "id": "52c0531e",
   "metadata": {},
   "outputs": [],
   "source": []
  },
  {
   "cell_type": "code",
   "execution_count": null,
   "id": "3dfdf50b",
   "metadata": {},
   "outputs": [],
   "source": []
  },
  {
   "cell_type": "code",
   "execution_count": null,
   "id": "f3af506c",
   "metadata": {},
   "outputs": [],
   "source": []
  },
  {
   "cell_type": "code",
   "execution_count": null,
   "id": "5ec24de7",
   "metadata": {},
   "outputs": [],
   "source": []
  },
  {
   "cell_type": "code",
   "execution_count": null,
   "id": "4f7152c8",
   "metadata": {},
   "outputs": [],
   "source": []
  },
  {
   "cell_type": "code",
   "execution_count": null,
   "id": "b534cd33",
   "metadata": {},
   "outputs": [],
   "source": []
  },
  {
   "cell_type": "code",
   "execution_count": null,
   "id": "048bf009",
   "metadata": {},
   "outputs": [],
   "source": []
  },
  {
   "cell_type": "code",
   "execution_count": null,
   "id": "d5257ad0",
   "metadata": {},
   "outputs": [],
   "source": []
  }
 ],
 "metadata": {
  "kernelspec": {
   "display_name": "Python 3 (ipykernel)",
   "language": "python",
   "name": "python3"
  },
  "language_info": {
   "codemirror_mode": {
    "name": "ipython",
    "version": 3
   },
   "file_extension": ".py",
   "mimetype": "text/x-python",
   "name": "python",
   "nbconvert_exporter": "python",
   "pygments_lexer": "ipython3",
   "version": "3.9.12"
  }
 },
 "nbformat": 4,
 "nbformat_minor": 5
}
